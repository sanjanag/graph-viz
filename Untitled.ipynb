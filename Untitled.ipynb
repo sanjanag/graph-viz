{
 "cells": [
  {
   "cell_type": "code",
   "execution_count": null,
   "metadata": {
    "collapsed": false
   },
   "outputs": [],
   "source": [
    "import networkx as nx\n",
    "import matplotlib.pyplot as plt\n",
    "%matplotlib inline\n",
    "def draw_graph(graph):\n",
    "\n",
    "    # extract nodes from graph\n",
    "    nodes = set([n1 for n1, n2 in graph] + [n2 for n1, n2 in graph])\n",
    "\n",
    "    # create networkx graph\n",
    "    G=nx.Graph()\n",
    "\n",
    "    # add nodes\n",
    "    for node in nodes:\n",
    "        G.add_node(node)\n",
    "\n",
    "    # add edges\n",
    "    for edge in graph:\n",
    "        G.add_edge(edge[0], edge[1])\n",
    "\n",
    "    # draw graph\n",
    "    pos = nx.shell_layout(G)\n",
    "    nx.draw(G, pos)\n",
    "\n",
    "    # show graph\n",
    "    #plt.show()\n",
    "\n",
    "# draw example\n",
    "graph = [(20, 21),(21, 22),(22, 23), (23, 24),(24, 25), (25, 20)]\n",
    "draw_graph(graph)\n",
    "\n",
    "graph = [(20, 21),(21, 22),(22, 23), (23, 24),(24, 25), (25, 20)]\n",
    "draw_graph(graph)"
   ]
  },
  {
   "cell_type": "code",
   "execution_count": null,
   "metadata": {
    "collapsed": false
   },
   "outputs": [],
   "source": [
    "import random\n",
    "import pylab\n",
    "from matplotlib.pyplot import pause\n",
    "import networkx as nx\n",
    "pylab.ion()\n",
    "\n",
    "graph = nx.Graph()\n",
    "node_number = 0\n",
    "graph.add_node(node_number, Position=(random.randrange(0, 100), random.randrange(0, 100)))\n",
    "\n",
    "def get_fig():\n",
    "    global node_number\n",
    "    node_number += 1\n",
    "    graph.add_node(node_number, Position=(random.randrange(0, 100), random.randrange(0, 100)))\n",
    "    graph.add_edge(node_number, random.choice(graph.nodes()))\n",
    "    fig = pylab.figure()\n",
    "    nx.draw(graph, pos=nx.get_node_attributes(graph,'Position'))\n",
    "    return fig\n",
    "\n",
    "num_plots = 50;\n",
    "#pylab.show()\n",
    "\n",
    "for i in range(num_plots):\n",
    "\n",
    "    fig = get_fig()\n",
    "    fig.canvas.draw()\n",
    "    #pylab.draw()\n",
    "    #pause(2)\n",
    "    #pylab.close(fig)"
   ]
  },
  {
   "cell_type": "code",
   "execution_count": null,
   "metadata": {
    "collapsed": true
   },
   "outputs": [],
   "source": [
    "import random\n",
    "import pylab\n",
    "from matplotlib.pyplot import pause\n",
    "import networkx as nx\n",
    "pylab.ion()\n",
    "\n",
    "graph = nx.Graph()\n",
    "node_number = 0\n",
    "graph.add_node(node_number, Position=(random.randrange(0, 100), random.randrange(0, 100)))\n",
    "\n",
    "def get_fig():\n",
    "    global node_number\n",
    "    node_number += 1\n",
    "    graph.add_node(node_number, Position=(random.randrange(0, 100), random.randrange(0, 100)))\n",
    "    graph.add_edge(node_number, random.choice(graph.nodes()))\n",
    "    nx.draw(graph, pos=nx.get_node_attributes(graph,'Position'))\n",
    "\n",
    "num_plots = 50;\n",
    "pylab.show()\n",
    "\n",
    "for i in range(num_plots):\n",
    "\n",
    "    get_fig()\n",
    "    pylab.draw()\n",
    "    pause(2)"
   ]
  },
  {
   "cell_type": "code",
   "execution_count": null,
   "metadata": {
    "collapsed": true
   },
   "outputs": [],
   "source": []
  }
 ],
 "metadata": {
  "kernelspec": {
   "display_name": "Python 2",
   "language": "python",
   "name": "python2"
  },
  "language_info": {
   "codemirror_mode": {
    "name": "ipython",
    "version": 2
   },
   "file_extension": ".py",
   "mimetype": "text/x-python",
   "name": "python",
   "nbconvert_exporter": "python",
   "pygments_lexer": "ipython2",
   "version": "2.7.11"
  }
 },
 "nbformat": 4,
 "nbformat_minor": 0
}
